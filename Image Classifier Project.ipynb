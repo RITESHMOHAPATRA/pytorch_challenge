{
  "nbformat": 4,
  "nbformat_minor": 0,
  "metadata": {
    "colab": {
      "name": "Image Classifier Project.ipynb",
      "version": "0.3.2",
      "provenance": [],
      "toc_visible": true
    },
    "kernelspec": {
      "name": "python3",
      "display_name": "Python 3"
    },
    "accelerator": "GPU"
  },
  "cells": [
    {
      "metadata": {
        "id": "KzSQNQp8j2Hl",
        "colab_type": "text"
      },
      "cell_type": "markdown",
      "source": [
        "# Developing an AI application\n",
        "\n",
        "Going forward, AI algorithms will be incorporated into more and more everyday applications. For example, you might want to include an image classifier in a smart phone app. To do this, you'd use a deep learning model trained on hundreds of thousands of images as part of the overall application architecture. A large part of software development in the future will be using these types of models as common parts of applications. \n",
        "\n",
        "In this project, you'll train an image classifier to recognize different species of flowers. You can imagine using something like this in a phone app that tells you the name of the flower your camera is looking at. In practice you'd train this classifier, then export it for use in your application. We'll be using [this dataset](http://www.robots.ox.ac.uk/~vgg/data/flowers/102/index.html) of 102 flower categories, you can see a few examples below. \n",
        "\n",
        "<img src='https://github.com/RITESHMOHAPATRA/pytorch_challenge/blob/master/assets/Flowers.png?raw=1' width=500px>\n",
        "\n",
        "The project is broken down into multiple steps:\n",
        "\n",
        "* Load and preprocess the image dataset\n",
        "* Train the image classifier on your dataset\n",
        "* Use the trained classifier to predict image content\n",
        "\n",
        "We'll lead you through each part which you'll implement in Python.\n",
        "\n",
        "When you've completed this project, you'll have an application that can be trained on any set of labeled images. Here your network will be learning about flowers and end up as a command line application. But, what you do with your new skills depends on your imagination and effort in building a dataset. For example, imagine an app where you take a picture of a car, it tells you what the make and model is, then looks up information about it. Go build your own dataset and make something new.\n",
        "\n",
        "First up is importing the packages you'll need. It's good practice to keep all the imports at the beginning of your code. As you work through this notebook and find you need to import a package, make sure to add the import up here."
      ]
    },
    {
      "metadata": {
        "id": "PWC9jyU7j2Ho",
        "colab_type": "code",
        "outputId": "1624e1fe-755b-4a66-e729-04aa56d9529d",
        "colab": {
          "base_uri": "https://localhost:8080/",
          "height": 204
        }
      },
      "cell_type": "code",
      "source": [
        "!wget -c https://s3.amazonaws.com/content.udacity-data.com/courses/nd188/flower_data.zip\n",
        "!unzip -qq flower_data.zip;"
      ],
      "execution_count": 7,
      "outputs": [
        {
          "output_type": "stream",
          "text": [
            "--2018-12-17 19:46:16--  https://s3.amazonaws.com/content.udacity-data.com/courses/nd188/flower_data.zip\n",
            "Resolving s3.amazonaws.com (s3.amazonaws.com)... 52.216.129.45\n",
            "Connecting to s3.amazonaws.com (s3.amazonaws.com)|52.216.129.45|:443... connected.\n",
            "HTTP request sent, awaiting response... 200 OK\n",
            "Length: 311442766 (297M) [application/zip]\n",
            "Saving to: ‘flower_data.zip’\n",
            "\n",
            "flower_data.zip     100%[===================>] 297.01M  29.4MB/s    in 9.5s    \n",
            "\n",
            "2018-12-17 19:46:26 (31.1 MB/s) - ‘flower_data.zip’ saved [311442766/311442766]\n",
            "\n"
          ],
          "name": "stdout"
        }
      ]
    },
    {
      "metadata": {
        "id": "m33Xwtinj2Ht",
        "colab_type": "text"
      },
      "cell_type": "markdown",
      "source": [
        "## Load the data\n",
        "\n",
        "Here you'll use `torchvision` to load the data ([documentation](http://pytorch.org/docs/0.3.0/torchvision/index.html)). You can [download the data here](https://s3.amazonaws.com/content.udacity-data.com/courses/nd188/flower_data.zip). The dataset is split into two parts, training and validation. For the training, you'll want to apply transformations such as random scaling, cropping, and flipping. This will help the network generalize leading to better performance. If you use a pre-trained network, you'll also need to make sure the input data is resized to 224x224 pixels as required by the networks.\n",
        "\n",
        "The validation set is used to measure the model's performance on data it hasn't seen yet. For this you don't want any scaling or rotation transformations, but you'll need to resize then crop the images to the appropriate size.\n",
        "\n",
        "The pre-trained networks available from `torchvision` were trained on the ImageNet dataset where each color channel was normalized separately. For both sets you'll need to normalize the means and standard deviations of the images to what the network expects. For the means, it's `[0.485, 0.456, 0.406]` and for the standard deviations `[0.229, 0.224, 0.225]`, calculated from the ImageNet images.  These values will shift each color channel to be centered at 0 and range from -1 to 1."
      ]
    },
    {
      "metadata": {
        "id": "VWfU_Zpkj2Ht",
        "colab_type": "code",
        "colab": {}
      },
      "cell_type": "code",
      "source": [
        "data_dir = 'flower_data'\n",
        "train_dir = data_dir + '/train'\n",
        "valid_dir = data_dir + '/valid'"
      ],
      "execution_count": 0,
      "outputs": []
    },
    {
      "metadata": {
        "id": "iFMktteYpHOP",
        "colab_type": "code",
        "colab": {}
      },
      "cell_type": "code",
      "source": [
        "# http://pytorch.org/\n",
        "from os.path import exists\n",
        "from wheel.pep425tags import get_abbr_impl, get_impl_ver, get_abi_tag\n",
        "platform = '{}{}-{}'.format(get_abbr_impl(), get_impl_ver(), get_abi_tag())\n",
        "cuda_output = !ldconfig -p|grep cudart.so|sed -e 's/.*\\.\\([0-9]*\\)\\.\\([0-9]*\\)$/cu\\1\\2/'\n",
        "accelerator = cuda_output[0] if exists('/dev/nvidia0') else 'cpu'\n",
        "\n",
        "!pip install -q http://download.pytorch.org/whl/{accelerator}/torch-0.4.1-{platform}-linux_x86_64.whl torchvision\n",
        "import torch"
      ],
      "execution_count": 0,
      "outputs": []
    },
    {
      "metadata": {
        "id": "eeY-_NiXurP1",
        "colab_type": "code",
        "colab": {
          "base_uri": "https://localhost:8080/",
          "height": 71
        },
        "outputId": "eb15373c-d313-4410-f089-faae61bf3ad5"
      },
      "cell_type": "code",
      "source": [
        "!pip install pillow==4.1.1\n",
        "%reload_ext autoreload\n",
        "%autoreload"
      ],
      "execution_count": 20,
      "outputs": [
        {
          "output_type": "stream",
          "text": [
            "Requirement already satisfied: pillow==4.1.1 in /usr/local/lib/python3.6/dist-packages (4.1.1)\n",
            "Requirement already satisfied: olefile in /usr/local/lib/python3.6/dist-packages (from pillow==4.1.1) (0.46)\n"
          ],
          "name": "stdout"
        }
      ]
    },
    {
      "metadata": {
        "id": "XlFbLYDcp_1K",
        "colab_type": "code",
        "colab": {}
      },
      "cell_type": "code",
      "source": [
        "# Imports here\n",
        "import matplotlib.pyplot as plt\n",
        "import numpy as np\n",
        "import torch\n",
        "from torch import nn\n",
        "from torch import optim\n",
        "import torch.nn.functional as F\n",
        "from torchvision import datasets, transforms, models\n",
        "import torchvision.models as models\n",
        "from PIL import Image\n",
        "import json\n",
        "from matplotlib.ticker import FormatStrFormatter"
      ],
      "execution_count": 0,
      "outputs": []
    },
    {
      "metadata": {
        "id": "xIePPegyj2Hx",
        "colab_type": "code",
        "colab": {}
      },
      "cell_type": "code",
      "source": [
        "#Define your transforms for the training, validation, and testing sets\n",
        "train_transforms = transforms.Compose([transforms.RandomRotation(30),\n",
        "                                       transforms.RandomResizedCrop(224),\n",
        "                                       transforms.RandomHorizontalFlip(),\n",
        "                                       transforms.ToTensor(),\n",
        "                                       transforms.Normalize([0.485, 0.456, 0.406], \n",
        "                                                            [0.229, 0.224, 0.225])])\n",
        "\n",
        "\n",
        "validation_transforms = transforms.Compose([transforms.Resize(256),\n",
        "                                            transforms.CenterCrop(224),\n",
        "                                            transforms.ToTensor(),\n",
        "                                            transforms.Normalize([0.485, 0.456, 0.406], \n",
        "                                                                 [0.229, 0.224, 0.225])])\n",
        "\n",
        "\n",
        "# Load the datasets with ImageFolder\n",
        "train_data = datasets.ImageFolder(train_dir, transform=train_transforms)\n",
        "validation_data = datasets.ImageFolder(valid_dir, transform=validation_transforms)\n",
        "\n",
        "\n",
        "# Using the image datasets and the trainforms, define the dataloaders\n",
        "trainloader = torch.utils.data.DataLoader(train_data, batch_size=64, shuffle=True)\n",
        "vloader = torch.utils.data.DataLoader(validation_data, batch_size =32,shuffle = True)\n"
      ],
      "execution_count": 0,
      "outputs": []
    },
    {
      "metadata": {
        "id": "mfkOsuMSj2H0",
        "colab_type": "text"
      },
      "cell_type": "markdown",
      "source": [
        "### Label mapping\n",
        "\n",
        "You'll also need to load in a mapping from category label to category name. You can find this in the file `cat_to_name.json`. It's a JSON object which you can read in with the [`json` module](https://docs.python.org/2/library/json.html). This will give you a dictionary mapping the integer encoded categories to the actual names of the flowers."
      ]
    },
    {
      "metadata": {
        "id": "poIE9V2Tj2H1",
        "colab_type": "code",
        "colab": {}
      },
      "cell_type": "code",
      "source": [
        "import json\n",
        "\n",
        "with open('cat_to_name.json', 'r') as f:\n",
        "    cat_to_name = json.load(f)"
      ],
      "execution_count": 0,
      "outputs": []
    },
    {
      "metadata": {
        "id": "7ngRWg6xj2H5",
        "colab_type": "text"
      },
      "cell_type": "markdown",
      "source": [
        "# Building and training the classifier\n",
        "\n",
        "Now that the data is ready, it's time to build and train the classifier. As usual, you should use one of the pretrained models from `torchvision.models` to get the image features. Build and train a new feed-forward classifier using those features.\n",
        "\n",
        "We're going to leave this part up to you. If you want to talk through it with someone, chat with your fellow students! You can also ask questions on the forums or join the instructors in office hours.\n",
        "\n",
        "Refer to [the rubric](https://review.udacity.com/#!/rubrics/1663/view) for guidance on successfully completing this section. Things you'll need to do:\n",
        "\n",
        "* Load a [pre-trained network](http://pytorch.org/docs/master/torchvision/models.html) (If you need a starting point, the VGG networks work great and are straightforward to use)\n",
        "* Define a new, untrained feed-forward network as a classifier, using ReLU activations and dropout\n",
        "* Train the classifier layers using backpropagation using the pre-trained network to get the features\n",
        "* Track the loss and accuracy on the validation set to determine the best hyperparameters\n",
        "\n",
        "We've left a cell open for you below, but use as many as you need. Our advice is to break the problem up into smaller parts you can run separately. Check that each part is doing what you expect, then move on to the next. You'll likely find that as you work through each part, you'll need to go back and modify your previous code. This is totally normal!\n",
        "\n",
        "When training make sure you're updating only the weights of the feed-forward network. You should be able to get the validation accuracy above 70% if you build everything right. Make sure to try different hyperparameters (learning rate, units in the classifier, epochs, etc) to find the best model. Save those hyperparameters to use as default values in the next part of the project."
      ]
    },
    {
      "metadata": {
        "id": "RhhNhHybj2H5",
        "colab_type": "code",
        "colab": {}
      },
      "cell_type": "code",
      "source": [
        "# TODO: Build and train your network\n",
        "structures = {\"vgg16\":25088,\n",
        "              \"densenet121\" : 1024,\n",
        "              \"alexnet\" : 9216 }"
      ],
      "execution_count": 0,
      "outputs": []
    },
    {
      "metadata": {
        "id": "2kAHsW-pqiro",
        "colab_type": "code",
        "outputId": "3275310e-5b7d-4683-88be-07b0cbfdaa91",
        "colab": {
          "base_uri": "https://localhost:8080/",
          "height": 71
        }
      },
      "cell_type": "code",
      "source": [
        "def nn_setup(structure='vgg16',dropout=0.5, hidden_layer1 = 120,lr = 0.001):\n",
        "    \n",
        "    \n",
        "    if structure == 'vgg16':\n",
        "        model = models.vgg16(pretrained=True)        \n",
        "    elif structure == 'densenet121':\n",
        "        model = models.densenet121(pretrained=True)\n",
        "    elif structure == 'alexnet':\n",
        "        model = models.alexnet(pretrained = True)\n",
        "    else:\n",
        "        print(\"Im sorry but {} is not a valid model.Did you mean vgg16,densenet121,or alexnet?\".format(structure))\n",
        "        \n",
        "    \n",
        "        \n",
        "    for param in model.parameters():\n",
        "        param.requires_grad = False\n",
        "\n",
        "        from collections import OrderedDict\n",
        "        classifier = nn.Sequential(OrderedDict([\n",
        "            ('dropout',nn.Dropout(dropout)),\n",
        "            ('inputs', nn.Linear(structures[structure], hidden_layer1)),\n",
        "            ('relu1', nn.ReLU()),\n",
        "            ('hidden_layer1', nn.Linear(hidden_layer1, 90)),\n",
        "            ('relu2',nn.ReLU()),\n",
        "            ('hidden_layer2',nn.Linear(90,80)),\n",
        "            ('relu3',nn.ReLU()),\n",
        "            ('hidden_layer3',nn.Linear(80,102)),\n",
        "            ('output', nn.LogSoftmax(dim=1))\n",
        "                          ]))\n",
        "        \n",
        "        \n",
        "        model.classifier = classifier\n",
        "        criterion = nn.NLLLoss()\n",
        "        optimizer = optim.Adam(model.classifier.parameters(), lr )\n",
        "        model.cuda()\n",
        "        \n",
        "        return model , optimizer ,criterion \n",
        "\n",
        "    \n",
        "\n",
        "model,optimizer,criterion = nn_setup('densenet121')"
      ],
      "execution_count": 25,
      "outputs": [
        {
          "output_type": "stream",
          "text": [
            "/usr/local/lib/python3.6/dist-packages/torchvision/models/densenet.py:212: UserWarning: nn.init.kaiming_normal is now deprecated in favor of nn.init.kaiming_normal_.\n",
            "  nn.init.kaiming_normal(m.weight.data)\n"
          ],
          "name": "stderr"
        }
      ]
    },
    {
      "metadata": {
        "id": "c0TL2xyxqmna",
        "colab_type": "code",
        "colab": {
          "base_uri": "https://localhost:8080/",
          "height": 2002
        },
        "outputId": "68f2a3f4-cd70-4f02-cae5-e7457074a737"
      },
      "cell_type": "code",
      "source": [
        "# Putting the above into functions, so they can be used later\n",
        "\n",
        "epochs = 12\n",
        "print_every = 5\n",
        "steps = 0\n",
        "loss_show=[]\n",
        "\n",
        "# change to cuda\n",
        "model.to('cuda')\n",
        "\n",
        "for e in range(epochs):\n",
        "    running_loss = 0\n",
        "    for ii, (inputs, labels) in enumerate(trainloader):\n",
        "        steps += 1\n",
        "        \n",
        "        inputs,labels = inputs.to('cuda'), labels.to('cuda')\n",
        "        \n",
        "        optimizer.zero_grad()\n",
        "        \n",
        "        # Forward and backward passes\n",
        "        outputs = model.forward(inputs)\n",
        "        loss = criterion(outputs, labels)\n",
        "        loss.backward()\n",
        "        optimizer.step()\n",
        "        \n",
        "        running_loss += loss.item()\n",
        "        \n",
        "        if steps % print_every == 0:\n",
        "            model.eval()\n",
        "            vlost = 0\n",
        "            accuracy=0\n",
        "            \n",
        "            \n",
        "            for ii, (inputs2,labels2) in enumerate(vloader):\n",
        "                optimizer.zero_grad()\n",
        "                \n",
        "                inputs2, labels2 = inputs2.to('cuda:0') , labels2.to('cuda:0')\n",
        "                model.to('cuda:0')\n",
        "                with torch.no_grad():    \n",
        "                    outputs = model.forward(inputs2)\n",
        "                    vlost = criterion(outputs,labels2)\n",
        "                    ps = torch.exp(outputs).data\n",
        "                    equality = (labels2.data == ps.max(1)[1])\n",
        "                    accuracy += equality.type_as(torch.FloatTensor()).mean()\n",
        "                    \n",
        "            vlost = vlost / len(vloader)\n",
        "            accuracy = accuracy /len(vloader)\n",
        "            \n",
        "                    \n",
        "            \n",
        "            print(\"Epoch: {}/{}... \".format(e+1, epochs),\n",
        "                  \"Loss: {:.4f}\".format(running_loss/print_every),\n",
        "                  \"Validation Lost {:.4f}\".format(vlost),\n",
        "                   \"Accuracy: {:.4f}\".format(accuracy))\n",
        "            \n",
        "            \n",
        "            running_loss = 0"
      ],
      "execution_count": 26,
      "outputs": [
        {
          "output_type": "stream",
          "text": [
            "Epoch: 1/12...  Loss: 4.6165 Validation Lost 0.1767 Accuracy: 0.0166\n",
            "Epoch: 1/12...  Loss: 4.5973 Validation Lost 0.1771 Accuracy: 0.0252\n",
            "Epoch: 1/12...  Loss: 4.5833 Validation Lost 0.1758 Accuracy: 0.0238\n",
            "Epoch: 1/12...  Loss: 4.5253 Validation Lost 0.1700 Accuracy: 0.0391\n",
            "Epoch: 1/12...  Loss: 4.5297 Validation Lost 0.1704 Accuracy: 0.0812\n",
            "Epoch: 1/12...  Loss: 4.4228 Validation Lost 0.1754 Accuracy: 0.0694\n",
            "Epoch: 1/12...  Loss: 4.4391 Validation Lost 0.1823 Accuracy: 0.0625\n",
            "Epoch: 1/12...  Loss: 4.4050 Validation Lost 0.1691 Accuracy: 0.1058\n",
            "Epoch: 1/12...  Loss: 4.3174 Validation Lost 0.1623 Accuracy: 0.1151\n",
            "Epoch: 1/12...  Loss: 4.2538 Validation Lost 0.1527 Accuracy: 0.1178\n",
            "Epoch: 1/12...  Loss: 4.1038 Validation Lost 0.1732 Accuracy: 0.1281\n",
            "Epoch: 1/12...  Loss: 4.1066 Validation Lost 0.1487 Accuracy: 0.1456\n",
            "Epoch: 1/12...  Loss: 4.0143 Validation Lost 0.1488 Accuracy: 0.1494\n",
            "Epoch: 1/12...  Loss: 4.0250 Validation Lost 0.1451 Accuracy: 0.1737\n",
            "Epoch: 1/12...  Loss: 3.7195 Validation Lost 0.1400 Accuracy: 0.1807\n",
            "Epoch: 1/12...  Loss: 3.7537 Validation Lost 0.1699 Accuracy: 0.2245\n",
            "Epoch: 1/12...  Loss: 3.5643 Validation Lost 0.1360 Accuracy: 0.2105\n",
            "Epoch: 1/12...  Loss: 3.4224 Validation Lost 0.1188 Accuracy: 0.2405\n",
            "Epoch: 1/12...  Loss: 3.1944 Validation Lost 0.1340 Accuracy: 0.2792\n",
            "Epoch: 1/12...  Loss: 3.1841 Validation Lost 0.1108 Accuracy: 0.3304\n",
            "Epoch: 2/12...  Loss: 1.1099 Validation Lost 0.0792 Accuracy: 0.3065\n",
            "Epoch: 2/12...  Loss: 3.0927 Validation Lost 0.1026 Accuracy: 0.3272\n",
            "Epoch: 2/12...  Loss: 2.8647 Validation Lost 0.0995 Accuracy: 0.3674\n",
            "Epoch: 2/12...  Loss: 2.8061 Validation Lost 0.0952 Accuracy: 0.3749\n",
            "Epoch: 2/12...  Loss: 2.5605 Validation Lost 0.0896 Accuracy: 0.4077\n",
            "Epoch: 2/12...  Loss: 2.5573 Validation Lost 0.0824 Accuracy: 0.4339\n",
            "Epoch: 2/12...  Loss: 2.2695 Validation Lost 0.0987 Accuracy: 0.4227\n",
            "Epoch: 2/12...  Loss: 2.4157 Validation Lost 0.0985 Accuracy: 0.4368\n",
            "Epoch: 2/12...  Loss: 2.2594 Validation Lost 0.0855 Accuracy: 0.4474\n",
            "Epoch: 2/12...  Loss: 2.2966 Validation Lost 0.0746 Accuracy: 0.4630\n",
            "Epoch: 2/12...  Loss: 2.2550 Validation Lost 0.0771 Accuracy: 0.4193\n",
            "Epoch: 2/12...  Loss: 2.2213 Validation Lost 0.0737 Accuracy: 0.4586\n",
            "Epoch: 2/12...  Loss: 2.2624 Validation Lost 0.0669 Accuracy: 0.5063\n",
            "Epoch: 2/12...  Loss: 2.1777 Validation Lost 0.0685 Accuracy: 0.5330\n",
            "Epoch: 2/12...  Loss: 2.1601 Validation Lost 0.0791 Accuracy: 0.5318\n",
            "Epoch: 2/12...  Loss: 2.0057 Validation Lost 0.0798 Accuracy: 0.5065\n",
            "Epoch: 2/12...  Loss: 1.9942 Validation Lost 0.0514 Accuracy: 0.5304\n",
            "Epoch: 2/12...  Loss: 1.8679 Validation Lost 0.0642 Accuracy: 0.5454\n",
            "Epoch: 2/12...  Loss: 1.8826 Validation Lost 0.0765 Accuracy: 0.5505\n",
            "Epoch: 2/12...  Loss: 1.7916 Validation Lost 0.0608 Accuracy: 0.5620\n",
            "Epoch: 2/12...  Loss: 1.7702 Validation Lost 0.0684 Accuracy: 0.5714\n",
            "Epoch: 3/12...  Loss: 1.5059 Validation Lost 0.0551 Accuracy: 0.5533\n",
            "Epoch: 3/12...  Loss: 1.6390 Validation Lost 0.0544 Accuracy: 0.5466\n",
            "Epoch: 3/12...  Loss: 1.7290 Validation Lost 0.0506 Accuracy: 0.5658\n",
            "Epoch: 3/12...  Loss: 1.7078 Validation Lost 0.0608 Accuracy: 0.5839\n",
            "Epoch: 3/12...  Loss: 1.7061 Validation Lost 0.0487 Accuracy: 0.5876\n",
            "Epoch: 3/12...  Loss: 1.4864 Validation Lost 0.0446 Accuracy: 0.5908\n",
            "Epoch: 3/12...  Loss: 1.5973 Validation Lost 0.0372 Accuracy: 0.6170\n",
            "Epoch: 3/12...  Loss: 1.4013 Validation Lost 0.0576 Accuracy: 0.6251\n",
            "Epoch: 3/12...  Loss: 1.5448 Validation Lost 0.0582 Accuracy: 0.6091\n",
            "Epoch: 3/12...  Loss: 1.4201 Validation Lost 0.0533 Accuracy: 0.6420\n",
            "Epoch: 3/12...  Loss: 1.5024 Validation Lost 0.0626 Accuracy: 0.6317\n",
            "Epoch: 3/12...  Loss: 1.5613 Validation Lost 0.0491 Accuracy: 0.6076\n",
            "Epoch: 3/12...  Loss: 1.4894 Validation Lost 0.0461 Accuracy: 0.6557\n",
            "Epoch: 3/12...  Loss: 1.3167 Validation Lost 0.0748 Accuracy: 0.6243\n",
            "Epoch: 3/12...  Loss: 1.5557 Validation Lost 0.0369 Accuracy: 0.6591\n",
            "Epoch: 3/12...  Loss: 1.4838 Validation Lost 0.0361 Accuracy: 0.6633\n",
            "Epoch: 3/12...  Loss: 1.4580 Validation Lost 0.0401 Accuracy: 0.6624\n",
            "Epoch: 3/12...  Loss: 1.4768 Validation Lost 0.0563 Accuracy: 0.6502\n",
            "Epoch: 3/12...  Loss: 1.5291 Validation Lost 0.0407 Accuracy: 0.6453\n",
            "Epoch: 3/12...  Loss: 1.2680 Validation Lost 0.0438 Accuracy: 0.6713\n",
            "Epoch: 4/12...  Loss: 0.2725 Validation Lost 0.0312 Accuracy: 0.6876\n",
            "Epoch: 4/12...  Loss: 1.3077 Validation Lost 0.0539 Accuracy: 0.6668\n",
            "Epoch: 4/12...  Loss: 1.2859 Validation Lost 0.0330 Accuracy: 0.6886\n",
            "Epoch: 4/12...  Loss: 1.2049 Validation Lost 0.0375 Accuracy: 0.6684\n",
            "Epoch: 4/12...  Loss: 1.3156 Validation Lost 0.0473 Accuracy: 0.6951\n",
            "Epoch: 4/12...  Loss: 1.3056 Validation Lost 0.0326 Accuracy: 0.6912\n",
            "Epoch: 4/12...  Loss: 1.2471 Validation Lost 0.0354 Accuracy: 0.7035\n",
            "Epoch: 4/12...  Loss: 1.2212 Validation Lost 0.0392 Accuracy: 0.6780\n",
            "Epoch: 4/12...  Loss: 1.1636 Validation Lost 0.0422 Accuracy: 0.7002\n",
            "Epoch: 4/12...  Loss: 1.2792 Validation Lost 0.0348 Accuracy: 0.7194\n",
            "Epoch: 4/12...  Loss: 1.2169 Validation Lost 0.0273 Accuracy: 0.6924\n",
            "Epoch: 4/12...  Loss: 1.1745 Validation Lost 0.0396 Accuracy: 0.6898\n",
            "Epoch: 4/12...  Loss: 1.1563 Validation Lost 0.0436 Accuracy: 0.7213\n",
            "Epoch: 4/12...  Loss: 1.3109 Validation Lost 0.0410 Accuracy: 0.7131\n",
            "Epoch: 4/12...  Loss: 1.1514 Validation Lost 0.0252 Accuracy: 0.7354\n",
            "Epoch: 4/12...  Loss: 1.2000 Validation Lost 0.0279 Accuracy: 0.7042\n",
            "Epoch: 4/12...  Loss: 1.2210 Validation Lost 0.0508 Accuracy: 0.7173\n",
            "Epoch: 4/12...  Loss: 1.1033 Validation Lost 0.0377 Accuracy: 0.7186\n",
            "Epoch: 4/12...  Loss: 1.0870 Validation Lost 0.0218 Accuracy: 0.7448\n",
            "Epoch: 4/12...  Loss: 1.1963 Validation Lost 0.0206 Accuracy: 0.7232\n",
            "Epoch: 4/12...  Loss: 1.0892 Validation Lost 0.0344 Accuracy: 0.7174\n",
            "Epoch: 5/12...  Loss: 0.7295 Validation Lost 0.0396 Accuracy: 0.7305\n",
            "Epoch: 5/12...  Loss: 1.2784 Validation Lost 0.0402 Accuracy: 0.7201\n",
            "Epoch: 5/12...  Loss: 1.0351 Validation Lost 0.0330 Accuracy: 0.7415\n",
            "Epoch: 5/12...  Loss: 0.8978 Validation Lost 0.0356 Accuracy: 0.7477\n",
            "Epoch: 5/12...  Loss: 1.0918 Validation Lost 0.0433 Accuracy: 0.7559\n",
            "Epoch: 5/12...  Loss: 1.0565 Validation Lost 0.0391 Accuracy: 0.7465\n",
            "Epoch: 5/12...  Loss: 0.8807 Validation Lost 0.0248 Accuracy: 0.7604\n"
          ],
          "name": "stdout"
        },
        {
          "output_type": "error",
          "ename": "KeyboardInterrupt",
          "evalue": "ignored",
          "traceback": [
            "\u001b[0;31m---------------------------------------------------------------------------\u001b[0m",
            "\u001b[0;31mKeyboardInterrupt\u001b[0m                         Traceback (most recent call last)",
            "\u001b[0;32m<ipython-input-26-b1330cc43d74>\u001b[0m in \u001b[0;36m<module>\u001b[0;34m()\u001b[0m\n\u001b[1;32m     20\u001b[0m         \u001b[0moutputs\u001b[0m \u001b[0;34m=\u001b[0m \u001b[0mmodel\u001b[0m\u001b[0;34m.\u001b[0m\u001b[0mforward\u001b[0m\u001b[0;34m(\u001b[0m\u001b[0minputs\u001b[0m\u001b[0;34m)\u001b[0m\u001b[0;34m\u001b[0m\u001b[0;34m\u001b[0m\u001b[0m\n\u001b[1;32m     21\u001b[0m         \u001b[0mloss\u001b[0m \u001b[0;34m=\u001b[0m \u001b[0mcriterion\u001b[0m\u001b[0;34m(\u001b[0m\u001b[0moutputs\u001b[0m\u001b[0;34m,\u001b[0m \u001b[0mlabels\u001b[0m\u001b[0;34m)\u001b[0m\u001b[0;34m\u001b[0m\u001b[0;34m\u001b[0m\u001b[0m\n\u001b[0;32m---> 22\u001b[0;31m         \u001b[0mloss\u001b[0m\u001b[0;34m.\u001b[0m\u001b[0mbackward\u001b[0m\u001b[0;34m(\u001b[0m\u001b[0;34m)\u001b[0m\u001b[0;34m\u001b[0m\u001b[0;34m\u001b[0m\u001b[0m\n\u001b[0m\u001b[1;32m     23\u001b[0m         \u001b[0moptimizer\u001b[0m\u001b[0;34m.\u001b[0m\u001b[0mstep\u001b[0m\u001b[0;34m(\u001b[0m\u001b[0;34m)\u001b[0m\u001b[0;34m\u001b[0m\u001b[0;34m\u001b[0m\u001b[0m\n\u001b[1;32m     24\u001b[0m \u001b[0;34m\u001b[0m\u001b[0m\n",
            "\u001b[0;32m/usr/local/lib/python3.6/dist-packages/torch/tensor.py\u001b[0m in \u001b[0;36mbackward\u001b[0;34m(self, gradient, retain_graph, create_graph)\u001b[0m\n\u001b[1;32m     91\u001b[0m                 \u001b[0mproducts\u001b[0m\u001b[0;34m.\u001b[0m \u001b[0mDefaults\u001b[0m \u001b[0mto\u001b[0m\u001b[0;31m \u001b[0m\u001b[0;31m`\u001b[0m\u001b[0;31m`\u001b[0m\u001b[0;32mFalse\u001b[0m\u001b[0;31m`\u001b[0m\u001b[0;31m`\u001b[0m\u001b[0;34m.\u001b[0m\u001b[0;34m\u001b[0m\u001b[0;34m\u001b[0m\u001b[0m\n\u001b[1;32m     92\u001b[0m         \"\"\"\n\u001b[0;32m---> 93\u001b[0;31m         \u001b[0mtorch\u001b[0m\u001b[0;34m.\u001b[0m\u001b[0mautograd\u001b[0m\u001b[0;34m.\u001b[0m\u001b[0mbackward\u001b[0m\u001b[0;34m(\u001b[0m\u001b[0mself\u001b[0m\u001b[0;34m,\u001b[0m \u001b[0mgradient\u001b[0m\u001b[0;34m,\u001b[0m \u001b[0mretain_graph\u001b[0m\u001b[0;34m,\u001b[0m \u001b[0mcreate_graph\u001b[0m\u001b[0;34m)\u001b[0m\u001b[0;34m\u001b[0m\u001b[0;34m\u001b[0m\u001b[0m\n\u001b[0m\u001b[1;32m     94\u001b[0m \u001b[0;34m\u001b[0m\u001b[0m\n\u001b[1;32m     95\u001b[0m     \u001b[0;32mdef\u001b[0m \u001b[0mregister_hook\u001b[0m\u001b[0;34m(\u001b[0m\u001b[0mself\u001b[0m\u001b[0;34m,\u001b[0m \u001b[0mhook\u001b[0m\u001b[0;34m)\u001b[0m\u001b[0;34m:\u001b[0m\u001b[0;34m\u001b[0m\u001b[0;34m\u001b[0m\u001b[0m\n",
            "\u001b[0;32m/usr/local/lib/python3.6/dist-packages/torch/autograd/__init__.py\u001b[0m in \u001b[0;36mbackward\u001b[0;34m(tensors, grad_tensors, retain_graph, create_graph, grad_variables)\u001b[0m\n\u001b[1;32m     88\u001b[0m     Variable._execution_engine.run_backward(\n\u001b[1;32m     89\u001b[0m         \u001b[0mtensors\u001b[0m\u001b[0;34m,\u001b[0m \u001b[0mgrad_tensors\u001b[0m\u001b[0;34m,\u001b[0m \u001b[0mretain_graph\u001b[0m\u001b[0;34m,\u001b[0m \u001b[0mcreate_graph\u001b[0m\u001b[0;34m,\u001b[0m\u001b[0;34m\u001b[0m\u001b[0;34m\u001b[0m\u001b[0m\n\u001b[0;32m---> 90\u001b[0;31m         allow_unreachable=True)  # allow_unreachable flag\n\u001b[0m\u001b[1;32m     91\u001b[0m \u001b[0;34m\u001b[0m\u001b[0m\n\u001b[1;32m     92\u001b[0m \u001b[0;34m\u001b[0m\u001b[0m\n",
            "\u001b[0;31mKeyboardInterrupt\u001b[0m: "
          ]
        }
      ]
    },
    {
      "metadata": {
        "id": "gib_GFdHj2H9",
        "colab_type": "text"
      },
      "cell_type": "markdown",
      "source": [
        "## Save the checkpoint\n",
        "\n",
        "Now that your network is trained, save the model so you can load it later for making predictions. You probably want to save other things such as the mapping of classes to indices which you get from one of the image datasets: `image_datasets['train'].class_to_idx`. You can attach this to the model as an attribute which makes inference easier later on.\n",
        "\n",
        "```model.class_to_idx = image_datasets['train'].class_to_idx```\n",
        "\n",
        "Remember that you'll want to completely rebuild the model later so you can use it for inference. Make sure to include any information you need in the checkpoint. If you want to load the model and keep training, you'll want to save the number of epochs as well as the optimizer state, `optimizer.state_dict`. You'll likely want to use this trained model in the next part of the project, so best to save it now."
      ]
    },
    {
      "metadata": {
        "id": "fzHpEjcAj2H9",
        "colab_type": "code",
        "colab": {}
      },
      "cell_type": "code",
      "source": [
        "# TODO: Save the checkpoint "
      ],
      "execution_count": 0,
      "outputs": []
    },
    {
      "metadata": {
        "id": "gdT-2Uzlj2IC",
        "colab_type": "text"
      },
      "cell_type": "markdown",
      "source": [
        "## Loading the checkpoint\n",
        "\n",
        "At this point it's good to write a function that can load a checkpoint and rebuild the model. That way you can come back to this project and keep working on it without having to retrain the network."
      ]
    },
    {
      "metadata": {
        "id": "u5eql3Kej2IE",
        "colab_type": "code",
        "colab": {}
      },
      "cell_type": "code",
      "source": [
        "# TODO: Write a function that loads a checkpoint and rebuilds the model"
      ],
      "execution_count": 0,
      "outputs": []
    },
    {
      "metadata": {
        "id": "OFdM1GGnj2IJ",
        "colab_type": "text"
      },
      "cell_type": "markdown",
      "source": [
        "# Inference for classification\n",
        "\n",
        "Now you'll write a function to use a trained network for inference. That is, you'll pass an image into the network and predict the class of the flower in the image. Write a function called `predict` that takes an image and a model, then returns the top $K$ most likely classes along with the probabilities. It should look like \n",
        "\n",
        "```python\n",
        "probs, classes = predict(image_path, model)\n",
        "print(probs)\n",
        "print(classes)\n",
        "> [ 0.01558163  0.01541934  0.01452626  0.01443549  0.01407339]\n",
        "> ['70', '3', '45', '62', '55']\n",
        "```\n",
        "\n",
        "First you'll need to handle processing the input image such that it can be used in your network. \n",
        "\n",
        "## Image Preprocessing\n",
        "\n",
        "You'll want to use `PIL` to load the image ([documentation](https://pillow.readthedocs.io/en/latest/reference/Image.html)). It's best to write a function that preprocesses the image so it can be used as input for the model. This function should process the images in the same manner used for training. \n",
        "\n",
        "First, resize the images where the shortest side is 256 pixels, keeping the aspect ratio. This can be done with the [`thumbnail`](http://pillow.readthedocs.io/en/3.1.x/reference/Image.html#PIL.Image.Image.thumbnail) or [`resize`](http://pillow.readthedocs.io/en/3.1.x/reference/Image.html#PIL.Image.Image.thumbnail) methods. Then you'll need to crop out the center 224x224 portion of the image.\n",
        "\n",
        "Color channels of images are typically encoded as integers 0-255, but the model expected floats 0-1. You'll need to convert the values. It's easiest with a Numpy array, which you can get from a PIL image like so `np_image = np.array(pil_image)`.\n",
        "\n",
        "As before, the network expects the images to be normalized in a specific way. For the means, it's `[0.485, 0.456, 0.406]` and for the standard deviations `[0.229, 0.224, 0.225]`. You'll want to subtract the means from each color channel, then divide by the standard deviation. \n",
        "\n",
        "And finally, PyTorch expects the color channel to be the first dimension but it's the third dimension in the PIL image and Numpy array. You can reorder dimensions using [`ndarray.transpose`](https://docs.scipy.org/doc/numpy-1.13.0/reference/generated/numpy.ndarray.transpose.html). The color channel needs to be first and retain the order of the other two dimensions."
      ]
    },
    {
      "metadata": {
        "id": "DmVaYtAcj2IK",
        "colab_type": "code",
        "colab": {}
      },
      "cell_type": "code",
      "source": [
        "def process_image(image):\n",
        "    ''' Scales, crops, and normalizes a PIL image for a PyTorch model,\n",
        "        returns an Numpy array\n",
        "    '''\n",
        "    \n",
        "    # TODO: Process a PIL image for use in a PyTorch model"
      ],
      "execution_count": 0,
      "outputs": []
    },
    {
      "metadata": {
        "id": "KwA3kN9Ej2IO",
        "colab_type": "text"
      },
      "cell_type": "markdown",
      "source": [
        "To check your work, the function below converts a PyTorch tensor and displays it in the notebook. If your `process_image` function works, running the output through this function should return the original image (except for the cropped out portions)."
      ]
    },
    {
      "metadata": {
        "id": "3hhp37vfj2IP",
        "colab_type": "code",
        "colab": {}
      },
      "cell_type": "code",
      "source": [
        "def imshow(image, ax=None, title=None):\n",
        "    \"\"\"Imshow for Tensor.\"\"\"\n",
        "    if ax is None:\n",
        "        fig, ax = plt.subplots()\n",
        "    \n",
        "    # PyTorch tensors assume the color channel is the first dimension\n",
        "    # but matplotlib assumes is the third dimension\n",
        "    image = image.numpy().transpose((1, 2, 0))\n",
        "    \n",
        "    # Undo preprocessing\n",
        "    mean = np.array([0.485, 0.456, 0.406])\n",
        "    std = np.array([0.229, 0.224, 0.225])\n",
        "    image = std * image + mean\n",
        "    \n",
        "    # Image needs to be clipped between 0 and 1 or it looks like noise when displayed\n",
        "    image = np.clip(image, 0, 1)\n",
        "    \n",
        "    ax.imshow(image)\n",
        "    \n",
        "    return ax"
      ],
      "execution_count": 0,
      "outputs": []
    },
    {
      "metadata": {
        "id": "bI3Pbievj2IT",
        "colab_type": "text"
      },
      "cell_type": "markdown",
      "source": [
        "## Class Prediction\n",
        "\n",
        "Once you can get images in the correct format, it's time to write a function for making predictions with your model. A common practice is to predict the top 5 or so (usually called top-$K$) most probable classes. You'll want to calculate the class probabilities then find the $K$ largest values.\n",
        "\n",
        "To get the top $K$ largest values in a tensor use [`x.topk(k)`](http://pytorch.org/docs/master/torch.html#torch.topk). This method returns both the highest `k` probabilities and the indices of those probabilities corresponding to the classes. You need to convert from these indices to the actual class labels using `class_to_idx` which hopefully you added to the model or from an `ImageFolder` you used to load the data ([see here](#Save-the-checkpoint)). Make sure to invert the dictionary so you get a mapping from index to class as well.\n",
        "\n",
        "Again, this method should take a path to an image and a model checkpoint, then return the probabilities and classes.\n",
        "\n",
        "```python\n",
        "probs, classes = predict(image_path, model)\n",
        "print(probs)\n",
        "print(classes)\n",
        "> [ 0.01558163  0.01541934  0.01452626  0.01443549  0.01407339]\n",
        "> ['70', '3', '45', '62', '55']\n",
        "```"
      ]
    },
    {
      "metadata": {
        "id": "X4rBvgjaj2IU",
        "colab_type": "code",
        "colab": {}
      },
      "cell_type": "code",
      "source": [
        "def predict(image_path, model, topk=5):\n",
        "    ''' Predict the class (or classes) of an image using a trained deep learning model.\n",
        "    '''\n",
        "    \n",
        "    # TODO: Implement the code to predict the class from an image file"
      ],
      "execution_count": 0,
      "outputs": []
    },
    {
      "metadata": {
        "id": "ROMWOUV9j2IX",
        "colab_type": "text"
      },
      "cell_type": "markdown",
      "source": [
        "## Sanity Checking\n",
        "\n",
        "Now that you can use a trained model for predictions, check to make sure it makes sense. Even if the validation accuracy is high, it's always good to check that there aren't obvious bugs. Use `matplotlib` to plot the probabilities for the top 5 classes as a bar graph, along with the input image. It should look like this:\n",
        "\n",
        "<img src='https://github.com/RITESHMOHAPATRA/pytorch_challenge/blob/master/assets/inference_example.png?raw=1' width=300px>\n",
        "\n",
        "You can convert from the class integer encoding to actual flower names with the `cat_to_name.json` file (should have been loaded earlier in the notebook). To show a PyTorch tensor as an image, use the `imshow` function defined above."
      ]
    },
    {
      "metadata": {
        "id": "CQcz2FKyj2IY",
        "colab_type": "code",
        "colab": {}
      },
      "cell_type": "code",
      "source": [
        "# TODO: Display an image along with the top 5 classes"
      ],
      "execution_count": 0,
      "outputs": []
    }
  ]
}